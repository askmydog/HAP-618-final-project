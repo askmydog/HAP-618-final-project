{
 "cells": [
  {
   "cell_type": "code",
   "execution_count": 20,
   "metadata": {},
   "outputs": [
    {
     "name": "stdout",
     "output_type": "stream",
     "text": [
      "date_obj:  2014\n"
     ]
    }
   ],
   "source": [
    "from datetime import datetime\n",
    "\n",
    "date_obj = datetime.strptime('3/12/2014', '%m/%d/%Y')\n",
    "\n",
    "print('date_obj: ', date_obj)\n",
    "\n",
    "age = date_obj - datetime.today()\n",
    "\n",
    "age.days/-365\n",
    "\n",
    "\n",
    "\n"
   ]
  },
  {
   "cell_type": "code",
   "execution_count": 34,
   "metadata": {},
   "outputs": [
    {
     "data": {
      "text/plain": [
       "10"
      ]
     },
     "execution_count": 34,
     "metadata": {},
     "output_type": "execute_result"
    }
   ],
   "source": [
    "import math\n",
    "\n",
    "dob = '3/12/2014'\n",
    "\n",
    "age_eq = lambda dob: math.floor(((datetime.today() - datetime.strptime(dob, '%m/%d/%Y')).days/365))\n",
    "\n",
    "age_eq('3/12/2014')\n",
    "\n",
    "# age('3/12/2014')\n"
   ]
  },
  {
   "cell_type": "code",
   "execution_count": 2,
   "metadata": {},
   "outputs": [
    {
     "data": {
      "text/plain": [
       "0.29019672736939217"
      ]
     },
     "execution_count": 2,
     "metadata": {},
     "output_type": "execute_result"
    }
   ],
   "source": [
    "from pooled_cohort import PatientClass\n",
    "\n",
    "jon = PatientClass(dob = '3/13/1974')\n",
    "\n",
    "jon.age\n",
    "\n",
    "jon.dm = True\n",
    "jon.sbp = 120\n",
    "jon.hrx = True\n",
    "jon.gen = 'm'\n",
    "jon.race = 'b'\n",
    "jon.tchol = 270\n",
    "jon.hdl = 30\n",
    "jon.sm = True\n",
    "\n",
    "jon.ascvd_risk()"
   ]
  },
  {
   "cell_type": "code",
   "execution_count": null,
   "metadata": {},
   "outputs": [],
   "source": []
  }
 ],
 "metadata": {
  "kernelspec": {
   "display_name": "Python 3",
   "language": "python",
   "name": "python3"
  },
  "language_info": {
   "codemirror_mode": {
    "name": "ipython",
    "version": 3
   },
   "file_extension": ".py",
   "mimetype": "text/x-python",
   "name": "python",
   "nbconvert_exporter": "python",
   "pygments_lexer": "ipython3",
   "version": "3.12.0"
  }
 },
 "nbformat": 4,
 "nbformat_minor": 2
}
